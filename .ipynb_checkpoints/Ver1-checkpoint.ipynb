{
 "cells": [
  {
   "cell_type": "code",
   "execution_count": 40,
   "metadata": {},
   "outputs": [],
   "source": [
    "import csv\n",
    "import datetime\n",
    "from statistics import mean\n",
    "from sklearn.model_selection import cross_val_score, KFold\n",
    "from IPython.display import display\n",
    "from sklearn.model_selection import train_test_split\n",
    "import numpy as np\n",
    "import matplotlib.pyplot as plt\n",
    "import tensorflow as tf\n",
    "from tensorflow.keras import datasets, layers, models, Sequential, utils\n",
    "from sklearn.metrics import confusion_matrix , ConfusionMatrixDisplay,classification_report, accuracy_score, plot_confusion_matrix, accuracy_score\n",
    "from tensorflow.keras.layers import Dense, Dropout, Flatten, Conv2D, Conv1D, MaxPooling1D, MaxPooling2D,MaxPooling3D,BatchNormalization, MaxPool2D\n",
    "import tensorflow.python.util.deprecation as deprecation\n",
    "deprecation._PRINT_DEPRECATION_WARNINGS = False\n",
    "import logging, os\n",
    "import matplotlib.pyplot as plt\n",
    "logging.disable(logging.WARNING)\n",
    "os.environ[\"TF_CPP_MIN_LOG_LEVEL\"] = \"3\"\n",
    "import random\n",
    "import pandas as pd\n",
    "\n",
    "from pgmpy.models import BayesianModel\n",
    "from pgmpy.estimators import ParameterEstimator\n",
    "from pgmpy.estimators import BayesianEstimator"
   ]
  },
  {
   "cell_type": "code",
   "execution_count": 2,
   "metadata": {},
   "outputs": [],
   "source": [
    "class Read:\n",
    "    def __init__(self,filename):\n",
    "        self.reader = csv.reader(open(filename), delimiter = \",\")\n",
    "        self.data = list(self.reader)\n",
    "        self.data.pop(0)"
   ]
  },
  {
   "cell_type": "code",
   "execution_count": 3,
   "metadata": {},
   "outputs": [],
   "source": [
    "class Game:\n",
    "    id = 0\n",
    "    def __init__(self,data):\n",
    "        Game.id += 1\n",
    "        self.id = Game.id\n",
    "        self.data = data\n",
    "        index = 0\n",
    "        for i in range(len(self.data)):\n",
    "            try:\n",
    "                self.data[i] = int(self.data[i])\n",
    "            except:\n",
    "                pass\n",
    "        self.game_data = self.data[1:22]\n",
    "        self.pregame_data = self.data[1:4]\n",
    "        self.date = self.data[1]\n",
    "        self.time = self.data[2]\n",
    "        self.h_team = self.data[3]\n",
    "        self.a_team = self.data[4]\n",
    "        self.h_score = self.data[5]  \n",
    "        self.a_score = self.data[6]\n",
    "        if self.data[7] == \"H\":\n",
    "            self.result = 0\n",
    "        elif self.data[7] == \"D\":\n",
    "            self.result = 1\n",
    "        elif self.data[7] == \"A\":\n",
    "            self.result = 2\n",
    "        else:\n",
    "            print(\"error\")\n",
    "        self.h_half_goals = self.data[8] #goals at half time\n",
    "        self.a_half_goals = self.data[9] \n",
    "        self.half_result = self.data[10] \n",
    "        self.referee = self.data[11]\n",
    "        self.h_shots = self.data[12]\n",
    "        self.a_shots = self.data[13]\n",
    "        self.h_shots_ontarg = self.data[14]\n",
    "        self.a_shots_ontarg = self.data[15]\n",
    "        self.h_fouls = self.data[16]\n",
    "        self.a_fouls = self.data[17]\n",
    "        self.h_corners = self.data[18]\n",
    "        self.a_corners = self.data[19]\n",
    "        self.h_yellow = self.data[20]\n",
    "        self.a_yellow = self.data[21]\n",
    "        self.h_red = self.data[22]\n",
    "        self.a_red = self.data[23]"
   ]
  },
  {
   "cell_type": "code",
   "execution_count": 4,
   "metadata": {},
   "outputs": [],
   "source": [
    "class Team:\n",
    "    id = 0\n",
    "    def __init__(self, name):\n",
    "        Team.id += 1\n",
    "        self.id = Team.id \n",
    "        self.name = name\n",
    "        self.games = []\n",
    "    \n",
    "    def add_game(self,game):\n",
    "        self.games.append(game)\n",
    "\n",
    "    def get_id(self):\n",
    "        return self.id\n",
    "        \n",
    "    def get_name(self):\n",
    "        return self.name\n",
    "    \n",
    "    def get_games_before(self,game):\n",
    "        games_before = []\n",
    "        count = 0\n",
    "        for i in self.games:\n",
    "            if i == game:\n",
    "                return self.games[:count]\n",
    "            count+=1\n",
    "        return []\n",
    "    \n",
    "    def get_stats(self,game_list):\n",
    "        #stats avg([goals_scored,conceded,halfgoals,halfconceded,shots,\n",
    "        #shotsgiven,shotson,shotsongiven,foulsgiven,fouls,corners,\n",
    "        #cornersgiven,yellowgiven,yellow,redgiven,red])\n",
    "        stats = [0,0,0,0,0,0,0,0,0,0,0,0,0,0,0,0,0]\n",
    "        game_count = 0\n",
    "        \n",
    "        for i in game_list:\n",
    "            if (i.h_team == self.name):\n",
    "                game_count += 1\n",
    "                #our home stats\n",
    "                stats[1] += i.h_score\n",
    "                stats[2] += i.h_half_goals\n",
    "                stats[3] += i.h_shots\n",
    "                stats[4] += i.h_shots_ontarg\n",
    "                stats[5] += i.h_fouls\n",
    "                stats[6] += i.h_corners\n",
    "                stats[7] += i.h_yellow\n",
    "                stats[8] += i.h_red\n",
    "                #opps away stats\n",
    "                stats[9] += i.a_score\n",
    "                stats[10] += i.a_half_goals\n",
    "                stats[11] += i.a_shots\n",
    "                stats[12] += i.a_shots_ontarg\n",
    "                stats[13] += i.a_fouls\n",
    "                stats[14] += i.a_corners\n",
    "                stats[15] += i.a_yellow\n",
    "                stats[16] += i.a_red\n",
    "                \n",
    "            if (i.a_team == self.name):\n",
    "                game_count += 1 \n",
    "                #our away stats\n",
    "                stats[1] += i.a_score\n",
    "                stats[2] += i.a_half_goals\n",
    "                stats[3] += i.a_shots\n",
    "                stats[4] += i.a_shots_ontarg\n",
    "                stats[5] += i.a_fouls\n",
    "                stats[6] += i.a_corners\n",
    "                stats[7] += i.a_yellow\n",
    "                stats[8] += i.a_red\n",
    "                #opp's home stats\n",
    "                stats[9] += i.h_score\n",
    "                stats[10] += i.h_half_goals\n",
    "                stats[11] += i.h_shots\n",
    "                stats[12] += i.h_shots_ontarg\n",
    "                stats[13] += i.h_fouls\n",
    "                stats[14] += i.h_corners\n",
    "                stats[15] += i.h_yellow\n",
    "                stats[16] += i.h_red\n",
    "        \n",
    "        count = 0\n",
    "        stats[0] = self.id;\n",
    "        for j in range(1,len(stats)):\n",
    "            count += 1\n",
    "            if game_count !=0:\n",
    "                stats[j] = round((stats[j])/game_count,2)\n",
    "            else:\n",
    "                stats = False\n",
    "        #print(str(stats)+str(self.name));\n",
    "        return stats\n",
    "  \n",
    "    def get_stats_before(self,game):\n",
    "        game_list = self.get_games_before(game)\n",
    "        stats = self.get_stats(game_list)\n",
    "        return stats\n",
    "    \n",
    "Team.id = 0"
   ]
  },
  {
   "cell_type": "code",
   "execution_count": 42,
   "metadata": {},
   "outputs": [],
   "source": [
    "read = Read(\"Data/19_20_data.csv\")\n",
    "\n",
    "games = list()\n",
    "teams = list()\n",
    "data = []\n",
    "index = 0\n",
    "labels = []\n",
    "data1d = []\n",
    "scores = []\n",
    "\n",
    "for result in read.data:\n",
    "    games.append(Game(result))\n",
    "    found = False\n",
    "    for i in teams:\n",
    "        if i.get_name() == result[3]:\n",
    "            found = True\n",
    "            break\n",
    "    if (found == False):\n",
    "        teams.append(Team(result[3]))\n",
    "    found = False\n",
    "    \n",
    "for team in teams:\n",
    "    for game in games:\n",
    "        if game.h_team == team.name or game.a_team == team.name:\n",
    "            team.add_game(game)\n",
    "\n",
    "for game in games:\n",
    "    data.append([[],[]])\n",
    "    data1d.append([])\n",
    "    res = np.array(game.result)\n",
    "    labels.append(res)\n",
    "    scores.append([game.h_score,game.a_score])\n",
    "    for team in teams:\n",
    "        if game.h_team == team.name:\n",
    "            if team.get_stats_before(game):\n",
    "                for i in team.get_stats_before(game):\n",
    "                    data[index][0].append(i)\n",
    "                    data1d[index].append(i)\n",
    "    for team in teams:\n",
    "        if game.a_team == team.name:\n",
    "            if team.get_stats_before(game):\n",
    "                for i in team.get_stats_before(game):\n",
    "                    data[index][1].append(i)\n",
    "                    data1d[index].append(i)\n",
    "    index+=1\n",
    "\n",
    "    \n",
    "data1d = data1d[20:]\n",
    "data = data[20:]\n",
    "labels = labels[20:]\n",
    "scores = scores[20:]\n",
    "\n",
    "\n",
    "#print(data[:20])\n",
    "#print (data[50])\n",
    "#print(data1d[50])\n",
    "#for team in teams:\n",
    "    #print(team.name + str(team.get_id()))\n",
    "    #print(team.name + str(team.get_id()))\n",
    "\n",
    "#for i in range(len(data)):\n",
    "#print(data[i])\n",
    "#    print(labels[i])\n",
    "    \n",
    "np_scores = np.array(scores)\n",
    "np_labels = np.array(labels)\n",
    "np_data = np.array(data)\n",
    "#for i in np_data:\n",
    "#    print(i)"
   ]
  },
  {
   "cell_type": "code",
   "execution_count": 80,
   "metadata": {},
   "outputs": [],
   "source": [
    "def build_model(data,labels):\n",
    "    model = Sequential()\n",
    "\n",
    "    model.add(Conv1D(32, (2), activation='relu', input_shape=train_data[0].shape))\n",
    "    model.add(BatchNormalization())\n",
    "    model.add(Dropout(0.5))\n",
    "\n",
    "    model.add(Conv1D(64, (1), activation='relu'))\n",
    "    model.add(BatchNormalization())\n",
    "    model.add(Dropout(0.5))\n",
    "\n",
    "    model.add(Flatten())\n",
    "    model.add(Dense(128, activation='relu'))\n",
    "    model.add(Dropout(0.5))\n",
    "\n",
    "    model.add(Dense(3, activation='softmax'))\n",
    "\n",
    "    model.compile(optimizer='adam',\n",
    "                  loss=\"sparse_categorical_crossentropy\",\n",
    "                  metrics = \"accuracy\")\n",
    "    \n",
    "    model_history = model.fit(data, labels, epochs=200, verbose = 0)\n",
    "    \n",
    "    return(model)\n",
    "    "
   ]
  },
  {
   "cell_type": "code",
   "execution_count": 81,
   "metadata": {},
   "outputs": [],
   "source": [
    "def evaluate_model(model,data,labels):\n",
    "    model.evaluate(data,labels)\n",
    "    model_pred = model.predict_classes(data)\n",
    "    \n",
    "    model_matrix = confusion_matrix(labels, model_pred)\n",
    "    model_show = ConfusionMatrixDisplay(confusion_matrix = model_matrix)\n",
    "    #print( \"Neural Network Matrix\")\n",
    "    model_show = model_show.plot()\n",
    "    m = tf.keras.metrics.Accuracy()\n",
    "    m.update_state(labels, model_pred)\n",
    "    return(m.result().numpy())"
   ]
  },
  {
   "cell_type": "code",
   "execution_count": 82,
   "metadata": {},
   "outputs": [],
   "source": [
    "def random_guess(test_labels):\n",
    "    rand_labels = []\n",
    "    for i in test_labels:\n",
    "        rand = random.randint(0,2)\n",
    "        rand_labels.append(rand)\n",
    "    rand_labels = np.array(rand_labels)\n",
    "    #rand_matrix = confusion_matrix(test_labels, rand_labels)\n",
    "    #rand_show = ConfusionMatrixDisplay(confusion_matrix = rand_matrix)\n",
    "    #print( \"Random Guess Matrix\")\n",
    "    #print(rand_show)\n",
    "    g = tf.keras.metrics.Accuracy()\n",
    "    g.update_state(test_labels, rand_labels)\n",
    "    return(g.result().numpy())\n",
    "    \n"
   ]
  },
  {
   "cell_type": "code",
   "execution_count": null,
   "metadata": {},
   "outputs": [],
   "source": []
  },
  {
   "cell_type": "code",
   "execution_count": 83,
   "metadata": {},
   "outputs": [
    {
     "name": "stdout",
     "output_type": "stream",
     "text": [
      "fold 1:\n",
      "3/3 [==============================] - 1s 6ms/step - loss: 1.0156 - accuracy: 0.5676\n"
     ]
    },
    {
     "name": "stderr",
     "output_type": "stream",
     "text": [
      "C:\\Users\\Sam\\anaconda3\\lib\\site-packages\\tensorflow\\python\\keras\\engine\\sequential.py:450: UserWarning: `model.predict_classes()` is deprecated and will be removed after 2021-01-01. Please use instead:* `np.argmax(model.predict(x), axis=-1)`,   if your model does multi-class classification   (e.g. if it uses a `softmax` last-layer activation).* `(model.predict(x) > 0.5).astype(\"int32\")`,   if your model does binary classification   (e.g. if it uses a `sigmoid` last-layer activation).\n",
      "  warnings.warn('`model.predict_classes()` is deprecated and '\n"
     ]
    },
    {
     "name": "stdout",
     "output_type": "stream",
     "text": [
      "fold 2:\n",
      "3/3 [==============================] - 1s 6ms/step - loss: 1.0696 - accuracy: 0.4865\n",
      "fold 3:\n",
      "3/3 [==============================] - 1s 5ms/step - loss: 1.1803 - accuracy: 0.5000\n",
      "fold 4:\n",
      "3/3 [==============================] - 1s 9ms/step - loss: 1.0715 - accuracy: 0.4730\n",
      "fold 5:\n",
      "3/3 [==============================] - 1s 7ms/step - loss: 1.1016 - accuracy: 0.4865\n",
      "random accuracies: [0.36486486, 0.2837838, 0.33783785, 0.2972973, 0.3108108]\n",
      "random average: 0.3189189\n",
      "nn accuracies: [0.5675676, 0.4864865, 0.5, 0.47297296, 0.4864865]\n",
      "nn average: 0.5027027\n"
     ]
    },
    {
     "data": {
      "image/png": "[encoded data removed]",
      "text/plain": [
       "<Figure size 432x288 with 2 Axes>"
      ]
     },
     "metadata": {
      "needs_background": "light"
     },
     "output_type": "display_data"
    },
    {
     "data": {
      "image/png": "[encoded data removed]",
      "text/plain": [
       "<Figure size 432x288 with 2 Axes>"
      ]
     },
     "metadata": {
      "needs_background": "light"
     },
     "output_type": "display_data"
    },
    {
     "data": {
      "image/png": "[encoded data removed]",
      "text/plain": [
       "<Figure size 432x288 with 2 Axes>"
      ]
     },
     "metadata": {
      "needs_background": "light"
     },
     "output_type": "display_data"
    },
    {
     "data": {
      "image/png": "[encoded data removed]",
      "text/plain": [
       "<Figure size 432x288 with 2 Axes>"
      ]
     },
     "metadata": {
      "needs_background": "light"
     },
     "output_type": "display_data"
    },
    {
     "data": {
      "image/png": "[encoded data removed]",
      "text/plain": [
       "<Figure size 432x288 with 2 Axes>"
      ]
     },
     "metadata": {
      "needs_background": "light"
     },
     "output_type": "display_data"
    }
   ],
   "source": [
    "kf = KFold(5,shuffle=True)\n",
    "fold = 0\n",
    "nn_accuracies = []\n",
    "rand_accuracies = []\n",
    "for train_index, test_index in kf.split(np_data):\n",
    "    fold+=1\n",
    "    print(\"fold \" + str(fold)+ \":\")\n",
    "    train_data, test_data = np_data[train_index], np_data[test_index]\n",
    "    train_labels, test_labels = np_labels[train_index], np_labels[test_index]\n",
    "    model = build_model(train_data,train_labels)\n",
    "    nn_accuracies.append(evaluate_model(model,test_data,test_labels))\n",
    "    rand_accuracies.append(random_guess(test_labels))\n",
    "    \n",
    "rand_avg = mean(rand_accuracies)\n",
    "nn_avg = mean(nn_accuracies)\n",
    "print(\"random accuracies: \"+ str(rand_accuracies))\n",
    "print(\"random average: \"+ str(rand_avg))\n",
    "print(\"nn accuracies: \"+ str(nn_accuracies))\n",
    "print(\"nn average: \"+ str(nn_avg))"
   ]
  },
  {
   "cell_type": "code",
   "execution_count": 84,
   "metadata": {},
   "outputs": [
    {
     "data": {
      "text/plain": [
       "Text(0, 0.5, 'accuracy')"
      ]
     },
     "execution_count": 84,
     "metadata": {},
     "output_type": "execute_result"
    },
    {
     "data": {
      "image/png": "[encoded data removed]",
      "text/plain": [
       "<Figure size 432x288 with 1 Axes>"
      ]
     },
     "metadata": {
      "needs_background": "light"
     },
     "output_type": "display_data"
    }
   ],
   "source": [
    "data = []\n",
    "for i in range(len(rand_accuracies)):\n",
    "    data.append((rand_accuracies[i],nn_accuracies[i]))\n",
    "data = np.array(data)\n",
    "df = pd.DataFrame(data,\n",
    "                  columns=['Random guess','Neural Network'])\n",
    "\n",
    "boxplot = df.boxplot(column=['Random guess','Neural Network'])\n",
    "boxplot.set_ylabel(\"accuracy\")"
   ]
  },
  {
   "cell_type": "code",
   "execution_count": 85,
   "metadata": {},
   "outputs": [
    {
     "name": "stdout",
     "output_type": "stream",
     "text": [
      "(0.4540540540540541, 0.24054054054054055, 0.3054054054054054)\n"
     ]
    },
    {
     "data": {
      "image/png": "[encoded data removed]",
      "text/plain": [
       "<Figure size 432x288 with 1 Axes>"
      ]
     },
     "metadata": {},
     "output_type": "display_data"
    }
   ],
   "source": [
    "countH = 0\n",
    "countD = 0\n",
    "countA = 0\n",
    "total = 0\n",
    "for i in range(len(np_labels)):\n",
    "    if np_labels[i] == 0:\n",
    "        countH+=1\n",
    "    elif np_labels[i] == 1:\n",
    "        countD+=1\n",
    "    elif np_labels[i] == 2:\n",
    "        countA+=1\n",
    "    total += 1\n",
    "Hrate = countH/total\n",
    "Drate = countD/total\n",
    "Arate = countA/total\n",
    "print(str((Hrate, Drate, Arate)))\n",
    "labels = 'Home', 'Draw', 'Away'\n",
    "sizes = [Hrate, Drate, Arate]\n",
    "\n",
    "fig1, ax1 = plt.subplots()\n",
    "ax1.pie(sizes, labels=labels, startangle=90)\n",
    "ax1.axis('equal') \n",
    "\n",
    "plt.show()"
   ]
  },
  {
   "cell_type": "code",
   "execution_count": null,
   "metadata": {},
   "outputs": [],
   "source": []
  },
  {
   "cell_type": "code",
   "execution_count": 70,
   "metadata": {},
   "outputs": [],
   "source": [
    "#baysian network\n",
    "\n",
    "def build_baysian(bays_data, bays_scores, bays_labels):\n",
    "    \n",
    "    size = len(bays_data)\n",
    "    home_score_avg = []\n",
    "    away_score_avg = []\n",
    "    home_conceded_avg = []\n",
    "    away_conceded_avg = []\n",
    "    home_shots_on_avg = []\n",
    "    away_shots_on_avg = []\n",
    "    home_shots_on_conceded_avg = []\n",
    "    away_shots_on_conceded_avg = []\n",
    "    home_shots_avg = []\n",
    "    away_shots_avg = []\n",
    "    home_shots_conceded_avg = []\n",
    "    away_shots_conceded_avg = []\n",
    "    score_dif = []\n",
    "    conc_dif = []\n",
    "    a_score = []\n",
    "    h_score = []\n",
    "    results = []\n",
    "    count = 0\n",
    "\n",
    "    while True:\n",
    "        score_dif.append(round(bays_data[count][0][1]-bays_data[count][1][1],0))\n",
    "        conc_dif.append(round(bays_data[count][0][9]-bays_data[count][1][9],0))\n",
    "        home_score_avg.append(round(bays_data[count][0][1],0))\n",
    "        away_score_avg.append(round(bays_data[count][1][1],0))\n",
    "        home_conceded_avg.append(round(bays_data[count][0][9],0))\n",
    "        away_conceded_avg.append(round(bays_data[count][1][9],0))\n",
    "        home_shots_on_avg.append(round(bays_data[count][0][4],0))\n",
    "        away_shots_on_avg.append(round(bays_data[count][1][4],0))\n",
    "        home_shots_on_conceded_avg.append(round(bays_data[count][0][12],0))\n",
    "        away_shots_on_conceded_avg.append(round(bays_data[count][1][12],0))\n",
    "        home_shots_avg.append(round(bays_data[count][0][3],0))\n",
    "        away_shots_avg.append(round(bays_data[count][1][3],0))\n",
    "        home_shots_conceded_avg.append(round(bays_data[count][0][11],0))\n",
    "        away_shots_conceded_avg.append(round(bays_data[count][1][11],0))\n",
    "\n",
    "        h_score.append(bays_scores[count][0])\n",
    "        a_score.append(bays_scores[count][1])\n",
    "        results.append(int(bays_labels[count]))\n",
    "        if count >= size-20:\n",
    "            break\n",
    "        count +=1\n",
    "\n",
    "    datas = pd.DataFrame(data={'score_dif': score_dif,\n",
    "                               'conc_dif': conc_dif,\n",
    "                               'home': home_score_avg, \n",
    "                               'away': away_score_avg,\n",
    "                               'home_conc': home_conceded_avg,\n",
    "                               'away_conc': away_conceded_avg,\n",
    "                               'home_shots_on': home_shots_on_avg,\n",
    "                               'away_shots_on': away_shots_on_avg,\n",
    "                               'home_shots_on_conc': home_shots_on_conceded_avg,\n",
    "                               'away_shots_on_conc': away_shots_on_conceded_avg,\n",
    "                               'home_shots': home_shots_avg,\n",
    "                               'away_shots': away_shots_avg,\n",
    "                               'home_shots_conc': home_shots_conceded_avg,\n",
    "                               'away_shots_conc': away_shots_conceded_avg,\n",
    "                               'h_score':h_score,\n",
    "                               'a_score':a_score,\n",
    "                               'result': results\n",
    "                              })\n",
    "\n",
    "    network =  BayesianModel([('h_score','result'),('a_score','result'),('home', 'h_score'), ('away', 'a_score'), ('home_conc', 'a_score'), ('away_conc', 'h_score'), \n",
    "                              ('home_shots', 'home_shots_on'),('away_shots', 'away_shots_on'), ('home_shots_conc', 'home_shots_on_conc'),\n",
    "                              ('away_shots_conc', 'away_shots_on_conc'), ('home_shots_on', 'home'), ('away_shots_on', 'away'),\n",
    "                              ('away_shots_on_conc', 'away_conc'),('home_shots_on_conc', 'home_conc')])\n",
    "\n",
    "\n",
    "    network.fit(datas, estimator=BayesianEstimator)\n",
    "    return network"
   ]
  },
  {
   "cell_type": "code",
   "execution_count": 99,
   "metadata": {},
   "outputs": [],
   "source": [
    "def bays_predict(match,network):\n",
    "    a = (round(match[0][1],0))\n",
    "    b = (round(match[1][1],0))        \n",
    "    c = (round(match[0][9],0))\n",
    "    d = (round(match[1][9],0))\n",
    "    e = (round(match[0][4],0))\n",
    "    f = (round(match[1][4],0))\n",
    "    g = (round(match[0][12],0))\n",
    "    h = (round(match[1][12],0))\n",
    "    i = (round(match[0][3],0))\n",
    "    j = (round(match[1][3],0))\n",
    "    k = (round(match[0][11],0))\n",
    "    l = (round(match[1][11],0))\n",
    "    m = (int(labels[count]))\n",
    "    test = pd.DataFrame(data={'home': [a],\n",
    "                              'away': [b],\n",
    "                              'home_conc': [c],\n",
    "                              'away_conc': [d],\n",
    "                              'home_shots_on': [e],\n",
    "                              'away_shots_on': [f],\n",
    "                              'home_shots_on_conc': [g],\n",
    "                              'away_shots_on_conc': [h],\n",
    "                              'home_shots': [i],\n",
    "                              'away_shots': [j],\n",
    "                              'home_shots_conc': [k],\n",
    "                              'away_shots_conc': [l]\n",
    "\n",
    "                              })\n",
    "    \n",
    "    \n",
    "    res = network.predict_probability(test)\n",
    "    print(res)\n",
    "    prediction = 0\n",
    "    max_prob = res['result_0'][0]\n",
    "    \n",
    "    if res['result_1'][0] > max_prob:\n",
    "        max_prob = res['result_1'][0]\n",
    "        prediction = 1\n",
    "    if res['result_2'][0] > max_prob:\n",
    "        max_prob = res['result_2'][0]\n",
    "        prediction = 2\n",
    "    return prediction"
   ]
  },
  {
   "cell_type": "code",
   "execution_count": 104,
   "metadata": {},
   "outputs": [
    {
     "ename": "SyntaxError",
     "evalue": "unmatched ')' (<ipython-input-104-11b6d95a7b39>, line 6)",
     "output_type": "error",
     "traceback": [
      "\u001b[1;36m  File \u001b[1;32m\"<ipython-input-104-11b6d95a7b39>\"\u001b[1;36m, line \u001b[1;32m6\u001b[0m\n\u001b[1;33m    print(str(count)+\" was \"+str(scores[count][0])+\":\"+str(scores[count][1]) +\" res:\"+str(labels[count]) + \" guess:\" + str(predict)))\u001b[0m\n\u001b[1;37m                                                                                                                                    ^\u001b[0m\n\u001b[1;31mSyntaxError\u001b[0m\u001b[1;31m:\u001b[0m unmatched ')'\n"
     ]
    }
   ],
   "source": [
    "network = build_baysian(data, scores, labels)\n",
    "count = 100\n",
    "rate = 0\n",
    "while count <= 200:\n",
    "    predict = bays_predict(data[count],network)\n",
    "    print(str(count)+\" was \"+str(scores[count][0])+\":\"+str(scores[count][1]) +\" res:\"+str(labels[count]) + \" guess:\" + str(predict))\n",
    "    if predict == labels[count]:\n",
    "        rate += 1\n",
    "    \n",
    "    count += 1\n",
    "\n",
    "print(rate)"
   ]
  },
  {
   "cell_type": "code",
   "execution_count": null,
   "metadata": {},
   "outputs": [],
   "source": []
  },
  {
   "cell_type": "code",
   "execution_count": null,
   "metadata": {},
   "outputs": [],
   "source": []
  },
  {
   "cell_type": "code",
   "execution_count": null,
   "metadata": {},
   "outputs": [],
   "source": []
  }
 ],
 "metadata": {
  "kernelspec": {
   "display_name": "Python 3",
   "language": "python",
   "name": "python3"
  },
  "language_info": {
   "codemirror_mode": {
    "name": "ipython",
    "version": 3
   },
   "file_extension": ".py",
   "mimetype": "text/x-python",
   "name": "python",
   "nbconvert_exporter": "python",
   "pygments_lexer": "ipython3",
   "version": "3.8.5"
  }
 },
 "nbformat": 4,
 "nbformat_minor": 4
}
