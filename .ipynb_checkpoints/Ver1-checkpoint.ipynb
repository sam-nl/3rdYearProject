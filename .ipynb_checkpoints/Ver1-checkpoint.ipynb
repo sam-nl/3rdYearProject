{
 "cells": [
  {
   "cell_type": "code",
   "execution_count": 14,
   "metadata": {},
   "outputs": [],
   "source": [
    " import csv\n",
    "import datetime\n",
    "from statistics import mean\n",
    "from sklearn.model_selection import cross_val_score, KFold\n",
    "from IPython.display import display\n",
    "from sklearn.model_selection import train_test_split\n",
    "import numpy as np\n",
    "import matplotlib.pyplot as plt\n",
    "import tensorflow as tf\n",
    "from tensorflow.keras import datasets, layers, models, Sequential, utils\n",
    "from sklearn.metrics import confusion_matrix , ConfusionMatrixDisplay,classification_report, accuracy_score, plot_confusion_matrix, accuracy_score\n",
    "from tensorflow.keras.layers import Dense, Dropout, Flatten, Conv2D, Conv1D, MaxPooling1D, MaxPooling2D,MaxPooling3D,BatchNormalization, MaxPool2D\n",
    "from sklearn.decomposition import PCA\n",
    "from sklearn.svm import SVC\n",
    "from tensorflow.keras.optimizers import SGD\n",
    "from sklearn.preprocessing import StandardScaler\n",
    "from sklearn.cluster import KMeans\n",
    "from sklearn.mixture import GaussianMixture\n",
    "from sklearn.discriminant_analysis import LinearDiscriminantAnalysis as LDA\n",
    "import os\n",
    "os.environ['TF_CPP_MIN_LOG_LEVEL'] = '3'\n",
    "import tensorflow.python.util.deprecation as deprecation\n",
    "deprecation._PRINT_DEPRECATION_WARNINGS = False\n",
    "import logging, os\n",
    "import matplotlib.pyplot as plt\n",
    "logging.disable(logging.WARNING)\n",
    "os.environ[\"TF_CPP_MIN_LOG_LEVEL\"] = \"3\"\n",
    "\n",
    "import tensorflow as tf\n",
    "import random\n",
    "import pandas as pd"
   ]
  },
  {
   "cell_type": "code",
   "execution_count": 3,
   "metadata": {},
   "outputs": [],
   "source": [
    "class Read:\n",
    "    def __init__(self,filename):\n",
    "        self.reader = csv.reader(open(filename), delimiter = \",\")\n",
    "        self.data = list(self.reader)\n",
    "        self.data.pop(0)"
   ]
  },
  {
   "cell_type": "code",
   "execution_count": 4,
   "metadata": {},
   "outputs": [],
   "source": [
    "class Game:\n",
    "    id = 0\n",
    "    def __init__(self,data):\n",
    "        Game.id += 1\n",
    "        self.id = Game.id\n",
    "        self.data = data\n",
    "        index = 0\n",
    "        for i in range(len(self.data)):\n",
    "            try:\n",
    "                self.data[i] = int(self.data[i])\n",
    "            except:\n",
    "                pass\n",
    "        self.game_data = self.data[1:22]\n",
    "        self.pregame_data = self.data[1:4]\n",
    "        self.date = self.data[1]\n",
    "        self.time = self.data[2]\n",
    "        self.h_team = self.data[3]\n",
    "        self.a_team = self.data[4]\n",
    "        self.h_score = self.data[5]  \n",
    "        self.a_score = self.data[6]\n",
    "        if self.data[7] == \"H\":\n",
    "            self.result = 0\n",
    "        elif self.data[7] == \"D\":\n",
    "            self.result = 1\n",
    "        elif self.data[7] == \"A\":\n",
    "            self.result = 2\n",
    "        else:\n",
    "            print(\"error\")\n",
    "        self.h_half_goals = self.data[8] #goals at half time\n",
    "        self.a_half_goals = self.data[9] \n",
    "        self.half_result = self.data[10] \n",
    "        self.referee = self.data[11]\n",
    "        self.h_shots = self.data[12]\n",
    "        self.a_shots = self.data[13]\n",
    "        self.h_shots_ontarg = self.data[14]\n",
    "        self.a_shots_ontarg = self.data[15]\n",
    "        self.h_fouls = self.data[16]\n",
    "        self.a_fouls = self.data[17]\n",
    "        self.h_corners = self.data[18]\n",
    "        self.a_corners = self.data[19]\n",
    "        self.h_yellow = self.data[20]\n",
    "        self.a_yellow = self.data[21]\n",
    "        self.h_red = self.data[22]\n",
    "        self.a_red = self.data[23]"
   ]
  },
  {
   "cell_type": "code",
   "execution_count": 5,
   "metadata": {},
   "outputs": [],
   "source": [
    "class Team:\n",
    "    id = 0\n",
    "    def __init__(self, name):\n",
    "        Team.id += 1\n",
    "        self.id = Team.id \n",
    "        self.name = name\n",
    "        self.games = []\n",
    "    \n",
    "    def add_game(self,game):\n",
    "        self.games.append(game)\n",
    "\n",
    "    def get_id(self):\n",
    "        return self.id\n",
    "        \n",
    "    def get_name(self):\n",
    "        return self.name\n",
    "    \n",
    "    def get_games_before(self,game):\n",
    "        games_before = []\n",
    "        count = 0\n",
    "        for i in self.games:\n",
    "            if i == game:\n",
    "                return self.games[:count]\n",
    "            count+=1\n",
    "        return []\n",
    "    \n",
    "    def get_stats(self,game_list):\n",
    "        #stats avg([goals_scored,conceded,halfgoals,halfconceded,shots,\n",
    "        #shotsgiven,shotson,shotsongiven,foulsgiven,fouls,corners,\n",
    "        #cornersgiven,yellowgiven,yellow,redgiven,red])\n",
    "        stats = [0,0,0,0,0,0,0,0,0,0,0,0,0,0,0,0]\n",
    "        game_count = 0\n",
    "        for i in game_list:\n",
    "            if (i.h_team == self.name):\n",
    "                game_count += 1\n",
    "                stats[0] += i.h_score\n",
    "                stats[1] += i.a_score\n",
    "                stats[2] += i.h_half_goals\n",
    "                stats[3] += i.a_half_goals\n",
    "                stats[4] += i.h_shots\n",
    "                stats[5] += i.a_shots\n",
    "                stats[6] += i.h_shots_ontarg\n",
    "                stats[7] += i.a_shots_ontarg\n",
    "                stats[8] += i.h_fouls\n",
    "                stats[9] += i.a_fouls\n",
    "                stats[10] += i.h_corners\n",
    "                stats[11] += i.a_corners\n",
    "                stats[12] += i.h_yellow\n",
    "                stats[13] += i.a_yellow\n",
    "                stats[14] += i.h_red\n",
    "                stats[15] += i.a_red\n",
    "                \n",
    "            if (i.a_team == self.name):\n",
    "                game_count += 1\n",
    "                stats[0] += i.a_score\n",
    "                stats[1] += i.h_score\n",
    "                stats[2] += i.a_half_goals\n",
    "                stats[3] += i.h_half_goals\n",
    "                stats[4] += i.a_shots\n",
    "                stats[5] += i.h_shots\n",
    "                stats[6] += i.a_shots_ontarg\n",
    "                stats[7] += i.h_shots_ontarg\n",
    "                stats[8] += i.a_fouls\n",
    "                stats[9] += i.h_fouls\n",
    "                stats[10] += i.a_corners\n",
    "                stats[11] += i.h_corners\n",
    "                stats[12] += i.a_yellow\n",
    "                stats[13] += i.h_yellow\n",
    "                stats[14] += i.a_red\n",
    "                stats[15] += i.h_red\n",
    "        count = 0\n",
    "        for j in range(len(stats)):\n",
    "            count += 1\n",
    "            if game_count !=0:\n",
    "                stats[j] = round(stats[j]/game_count,2)\n",
    "            else:\n",
    "                stats = False\n",
    "        return stats\n",
    "  \n",
    "    def get_stats_before(self,game):\n",
    "        game_list = self.get_games_before(game)\n",
    "        game_list\n",
    "        stats = self.get_stats(game_list)\n",
    "        return stats"
   ]
  },
  {
   "cell_type": "code",
   "execution_count": 6,
   "metadata": {},
   "outputs": [
    {
     "name": "stdout",
     "output_type": "stream",
     "text": [
      "home: \n",
      "168\n",
      "Rate:\n",
      "0.4540540540540541\n",
      "draw: \n",
      "89\n",
      "Rate:\n",
      "0.24054054054054055\n",
      "away: \n",
      "113\n",
      "Rate:\n",
      "0.3054054054054054\n"
     ]
    }
   ],
   "source": [
    "read = Read(\"Data/19_20_data.csv\")\n",
    "\n",
    "games = list()\n",
    "teams = list()\n",
    "data = []\n",
    "index = 0\n",
    "labels = []\n",
    "\n",
    "for result in read.data:\n",
    "    games.append(Game(result))\n",
    "    found = False\n",
    "    for i in teams:\n",
    "        if i.get_name() == result[3]:\n",
    "            found = True\n",
    "            break\n",
    "    if (found == False):\n",
    "        teams.append(Team(result[3]))\n",
    "    found = False\n",
    "    \n",
    "for team in teams:\n",
    "    for game in games:\n",
    "        if game.h_team == team.name or game.a_team == team.name:\n",
    "            team.add_game(game)\n",
    "\n",
    "for game in games:\n",
    "    data.append([[],[]])\n",
    "    res = np.array(game.result)\n",
    "    labels.append(res)\n",
    "    for team in teams:\n",
    "        if game.h_team == team.name:\n",
    "            if team.get_stats_before(game):\n",
    "                for i in team.get_stats_before(game):\n",
    "                    data[index][0].append(i)\n",
    "                data[index][0].append(team.id)\n",
    "        elif game.a_team == team.name:\n",
    "            if team.get_stats_before(game):\n",
    "                for i in team.get_stats_before(game):\n",
    "                    data[index][1].append(i)\n",
    "                data[index][1].append(team.id)\n",
    "    index+=1\n",
    "    \n",
    "\n",
    "data = data[10:]\n",
    "labels = labels[10:]\n",
    "\n",
    "\n",
    "np_labels = np.array(labels)\n",
    "np_data = np.array(data)"
   ]
  },
  {
   "cell_type": "code",
   "execution_count": 7,
   "metadata": {},
   "outputs": [],
   "source": [
    "def build_model(data,labels):\n",
    "    model = Sequential()\n",
    "\n",
    "    model.add(Conv1D(32, (2), activation='relu', input_shape=train_data[0].shape))\n",
    "    model.add(BatchNormalization())\n",
    "    model.add(Dropout(0.4))\n",
    "\n",
    "    model.add(Conv1D(64, (1), activation='relu'))\n",
    "    model.add(BatchNormalization())\n",
    "    model.add(Dropout(0.4))\n",
    "\n",
    "    model.add(Flatten())\n",
    "    model.add(Dense(128, activation='relu'))\n",
    "    model.add(Dropout(0.4))\n",
    "\n",
    "    model.add(Dense(3, activation='softmax'))\n",
    "\n",
    "    model.compile(optimizer='adam',\n",
    "                  loss=\"sparse_categorical_crossentropy\",\n",
    "                  metrics = \"accuracy\")\n",
    "    \n",
    "    model_history = model.fit(data, labels, epochs=100, verbose = 0)\n",
    "    \n",
    "    return(model)\n",
    "    "
   ]
  },
  {
   "cell_type": "code",
   "execution_count": 35,
   "metadata": {},
   "outputs": [],
   "source": [
    "def evaluate_model(model,data,labels):\n",
    "    model.evaluate(data,labels)\n",
    "    model_pred = model.predict_classes(data)\n",
    "    model_matrix = confusion_matrix(labels, model_pred)\n",
    "    model_show = ConfusionMatrixDisplay(confusion_matrix = model_matrix)\n",
    "    model_show.title = \"Neural Network Matrix\"\n",
    "    model_show = model_show.plot()\n",
    "    m = tf.keras.metrics.Accuracy()\n",
    "    m.update_state(labels, model_pred)\n",
    "    return(m.result().numpy())"
   ]
  },
  {
   "cell_type": "code",
   "execution_count": 36,
   "metadata": {},
   "outputs": [],
   "source": [
    "def random_guess(test_labels):\n",
    "    rand_labels = []\n",
    "    for i in test_labels:\n",
    "        rand = random.randint(0,2)\n",
    "        rand_labels.append(rand)\n",
    "    rand_labels = np.array(rand_labels)\n",
    "    rand_matrix = confusion_matrix(test_labels, rand_labels)\n",
    "    rand_show = ConfusionMatrixDisplay(confusion_matrix = rand_matrix)\n",
    "    rand_show.title = \"Random Guess Matrix\"\n",
    "    rand_show = rand_show.plot()\n",
    "    g = tf.keras.metrics.Accuracy()\n",
    "    g.update_state(test_labels, rand_labels)\n",
    "    return(g.result().numpy())\n",
    "    \n"
   ]
  },
  {
   "cell_type": "code",
   "execution_count": null,
   "metadata": {},
   "outputs": [],
   "source": []
  },
  {
   "cell_type": "code",
   "execution_count": 40,
   "metadata": {},
   "outputs": [
    {
     "name": "stdout",
     "output_type": "stream",
     "text": [
      "fold 1:\n",
      "3/3 [==============================] - 1s 7ms/step - loss: 0.9658 - accuracy: 0.5405\n"
     ]
    },
    {
     "name": "stderr",
     "output_type": "stream",
     "text": [
      "C:\\Users\\Sam\\anaconda3\\lib\\site-packages\\tensorflow\\python\\keras\\engine\\sequential.py:450: UserWarning: `model.predict_classes()` is deprecated and will be removed after 2021-01-01. Please use instead:* `np.argmax(model.predict(x), axis=-1)`,   if your model does multi-class classification   (e.g. if it uses a `softmax` last-layer activation).* `(model.predict(x) > 0.5).astype(\"int32\")`,   if your model does binary classification   (e.g. if it uses a `sigmoid` last-layer activation).\n",
      "  warnings.warn('`model.predict_classes()` is deprecated and '\n"
     ]
    },
    {
     "name": "stdout",
     "output_type": "stream",
     "text": [
      "fold 2:\n",
      "3/3 [==============================] - 1s 7ms/step - loss: 1.0403 - accuracy: 0.4459\n",
      "fold 3:\n",
      "3/3 [==============================] - 1s 6ms/step - loss: 1.2295 - accuracy: 0.5135\n",
      "fold 4:\n",
      "3/3 [==============================] - 1s 6ms/step - loss: 1.2015 - accuracy: 0.5676\n",
      "fold 5:\n",
      "3/3 [==============================] - 1s 7ms/step - loss: 0.9757 - accuracy: 0.5541\n",
      "random accuracies: [0.4189189, 0.36486486, 0.21621622, 0.2972973, 0.36486486]\n",
      "random average: 0.33243242\n",
      "nn accuracies: [0.5405405, 0.44594595, 0.5135135, 0.5675676, 0.5540541]\n",
      "nn average: 0.5243243\n"
     ]
    },
    {
     "data": {
      "image/png": "[encoded data removed]",
      "text/plain": [
       "<Figure size 432x288 with 2 Axes>"
      ]
     },
     "metadata": {
      "needs_background": "light"
     },
     "output_type": "display_data"
    },
    {
     "data": {
      "image/png": "[encoded data removed]",
      "text/plain": [
       "<Figure size 432x288 with 2 Axes>"
      ]
     },
     "metadata": {
      "needs_background": "light"
     },
     "output_type": "display_data"
    },
    {
     "data": {
      "image/png": "[encoded data removed]",
      "text/plain": [
       "<Figure size 432x288 with 2 Axes>"
      ]
     },
     "metadata": {
      "needs_background": "light"
     },
     "output_type": "display_data"
    },
    {
     "data": {
      "image/png": "[encoded data removed]",
      "text/plain": [
       "<Figure size 432x288 with 2 Axes>"
      ]
     },
     "metadata": {
      "needs_background": "light"
     },
     "output_type": "display_data"
    },
    {
     "data": {
      "image/png": "[encoded data removed]",
      "text/plain": [
       "<Figure size 432x288 with 2 Axes>"
      ]
     },
     "metadata": {
      "needs_background": "light"
     },
     "output_type": "display_data"
    },
    {
     "data": {
      "image/png": "[encoded data removed]",
      "text/plain": [
       "<Figure size 432x288 with 2 Axes>"
      ]
     },
     "metadata": {
      "needs_background": "light"
     },
     "output_type": "display_data"
    },
    {
     "data": {
      "image/png": "[encoded data removed]",
      "text/plain": [
       "<Figure size 432x288 with 2 Axes>"
      ]
     },
     "metadata": {
      "needs_background": "light"
     },
     "output_type": "display_data"
    },
    {
     "data": {
      "image/png": "[encoded data removed]",
      "text/plain": [
       "<Figure size 432x288 with 2 Axes>"
      ]
     },
     "metadata": {
      "needs_background": "light"
     },
     "output_type": "display_data"
    },
    {
     "data": {
      "image/png": "[encoded data removed]",
      "text/plain": [
       "<Figure size 432x288 with 2 Axes>"
      ]
     },
     "metadata": {
      "needs_background": "light"
     },
     "output_type": "display_data"
    },
    {
     "data": {
      "image/png": "[encoded data removed]",
      "text/plain": [
       "<Figure size 432x288 with 2 Axes>"
      ]
     },
     "metadata": {
      "needs_background": "light"
     },
     "output_type": "display_data"
    }
   ],
   "source": [
    "kf = KFold(5,shuffle=True)\n",
    "fold = 0\n",
    "nn_accuracies = []\n",
    "rand_accuracies = []\n",
    "for train_index, test_index in kf.split(np_data):\n",
    "    fold+=1\n",
    "    print(\"fold \" + str(fold)+ \":\")\n",
    "    train_data, test_data = np_data[train_index], np_data[test_index]\n",
    "    train_labels, test_labels = np_labels[train_index], np_labels[test_index]\n",
    "    model = build_model(train_data,train_labels)\n",
    "    nn_accuracies.append(evaluate_model(model,test_data,test_labels))\n",
    "    rand_accuracies.append(random_guess(test_labels))\n",
    "    \n",
    "rand_avg = mean(rand_accuracies)\n",
    "nn_avg = mean(nn_accuracies)\n",
    "print(\"random accuracies: \"+ str(rand_accuracies))\n",
    "print(\"random average: \"+ str(rand_avg))\n",
    "print(\"nn accuracies: \"+ str(nn_accuracies))\n",
    "print(\"nn average: \"+ str(nn_avg))"
   ]
  },
  {
   "cell_type": "code",
   "execution_count": 41,
   "metadata": {},
   "outputs": [
    {
     "data": {
      "text/plain": [
       "Text(0, 0.5, 'accuracy')"
      ]
     },
     "execution_count": 41,
     "metadata": {},
     "output_type": "execute_result"
    },
    {
     "data": {
      "image/png": "[encoded data removed]",
      "text/plain": [
       "<Figure size 432x288 with 1 Axes>"
      ]
     },
     "metadata": {
      "needs_background": "light"
     },
     "output_type": "display_data"
    }
   ],
   "source": [
    "data = []\n",
    "for i in range(len(rand_accuracies)):\n",
    "    data.append((rand_accuracies[i],nn_accuracies[i]))\n",
    "data = np.array(data)\n",
    "df = pd.DataFrame(data,\n",
    "                  columns=['Random guess','Neural Network'])\n",
    "\n",
    "boxplot = df.boxplot(column=['Random guess','Neural Network'])\n",
    "boxplot.set_ylabel(\"accuracy\")"
   ]
  },
  {
   "cell_type": "code",
   "execution_count": 42,
   "metadata": {},
   "outputs": [
    {
     "name": "stdout",
     "output_type": "stream",
     "text": [
      "(0.4540540540540541, 0.24054054054054055, 0.3054054054054054)\n"
     ]
    },
    {
     "data": {
      "image/png": "[encoded data removed]",
      "text/plain": [
       "<Figure size 432x288 with 1 Axes>"
      ]
     },
     "metadata": {},
     "output_type": "display_data"
    }
   ],
   "source": [
    "countH = 0\n",
    "countD = 0\n",
    "countA = 0\n",
    "total = 0\n",
    "for i in range(len(np_labels)):\n",
    "    if np_labels[i] == 0:\n",
    "        countH+=1\n",
    "    elif np_labels[i] == 1:\n",
    "        countD+=1\n",
    "    elif np_labels[i] == 2:\n",
    "        countA+=1\n",
    "    total += 1\n",
    "Hrate = countH/total\n",
    "Drate = countD/total\n",
    "Arate = countA/total\n",
    "print(str((Hrate, Drate, Arate)))\n",
    "labels = 'Home', 'Draw', 'Away'\n",
    "sizes = [Hrate, Drate, Arate]\n",
    "\n",
    "fig1, ax1 = plt.subplots()\n",
    "ax1.pie(sizes, labels=labels, startangle=90)\n",
    "ax1.axis('equal') \n",
    "\n",
    "plt.show()"
   ]
  },
  {
   "cell_type": "code",
   "execution_count": null,
   "metadata": {},
   "outputs": [],
   "source": []
  },
  {
   "cell_type": "code",
   "execution_count": null,
   "metadata": {},
   "outputs": [],
   "source": []
  },
  {
   "cell_type": "code",
   "execution_count": null,
   "metadata": {},
   "outputs": [],
   "source": []
  }
 ],
 "metadata": {
  "kernelspec": {
   "display_name": "Python 3",
   "language": "python",
   "name": "python3"
  },
  "language_info": {
   "codemirror_mode": {
    "name": "ipython",
    "version": 3
   },
   "file_extension": ".py",
   "mimetype": "text/x-python",
   "name": "python",
   "nbconvert_exporter": "python",
   "pygments_lexer": "ipython3",
   "version": "3.8.5"
  }
 },
 "nbformat": 4,
 "nbformat_minor": 4
}
